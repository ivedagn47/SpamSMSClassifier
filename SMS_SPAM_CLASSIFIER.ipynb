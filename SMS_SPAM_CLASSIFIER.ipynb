{
 "cells": [
  {
   "cell_type": "markdown",
   "id": "2307c7e2-86aa-419b-a85a-6d08e126be99",
   "metadata": {},
   "source": [
    "LOADING THE DATA FROM SPAM.CSV"
   ]
  },
  {
   "cell_type": "code",
   "execution_count": 12,
   "id": "b191f09f-3c1a-44d3-b702-6132df365978",
   "metadata": {},
   "outputs": [],
   "source": [
    "import pandas as pd\n",
    "\n",
    "# Loading the dataset\n",
    "data_path = 'spam.csv'\n",
    "df = pd.read_csv(data_path, encoding='latin-1')"
   ]
  },
  {
   "cell_type": "code",
   "execution_count": 13,
   "id": "dcd34298-710a-4d50-992b-8c3ca2f77d86",
   "metadata": {},
   "outputs": [
    {
     "name": "stdout",
     "output_type": "stream",
     "text": [
      "     v1                                                 v2 Unnamed: 2  \\\n",
      "0   ham  Go until jurong point, crazy.. Available only ...        NaN   \n",
      "1   ham                      Ok lar... Joking wif u oni...        NaN   \n",
      "2  spam  Free entry in 2 a wkly comp to win FA Cup fina...        NaN   \n",
      "3   ham  U dun say so early hor... U c already then say...        NaN   \n",
      "4   ham  Nah I don't think he goes to usf, he lives aro...        NaN   \n",
      "\n",
      "  Unnamed: 3 Unnamed: 4  \n",
      "0        NaN        NaN  \n",
      "1        NaN        NaN  \n",
      "2        NaN        NaN  \n",
      "3        NaN        NaN  \n",
      "4        NaN        NaN  \n"
     ]
    }
   ],
   "source": [
    "print(df.head())"
   ]
  },
  {
   "cell_type": "code",
   "execution_count": 14,
   "id": "6027710c-6e6f-472c-a329-2ce6d52ef0e8",
   "metadata": {},
   "outputs": [],
   "source": [
    "# Dropping  unnecessary columns and renaming the columns for clarity\n",
    "df = df.iloc[:, :2]\n",
    "df.columns = ['Label', 'Message']"
   ]
  },
  {
   "cell_type": "code",
   "execution_count": 15,
   "id": "18169a05-8713-40df-8167-dce63accdfe3",
   "metadata": {},
   "outputs": [
    {
     "name": "stdout",
     "output_type": "stream",
     "text": [
      "  Label                                            Message\n",
      "0   ham  Go until jurong point, crazy.. Available only ...\n",
      "1   ham                      Ok lar... Joking wif u oni...\n",
      "2  spam  Free entry in 2 a wkly comp to win FA Cup fina...\n",
      "3   ham  U dun say so early hor... U c already then say...\n",
      "4   ham  Nah I don't think he goes to usf, he lives aro...\n"
     ]
    }
   ],
   "source": [
    "print(df.head())"
   ]
  },
  {
   "cell_type": "markdown",
   "id": "765ebf60-d744-4247-b9f3-f24b4135607c",
   "metadata": {},
   "source": [
    "PREPROCESSING THE DATA"
   ]
  },
  {
   "cell_type": "code",
   "execution_count": 16,
   "id": "e2f440e3-90a4-4fac-8d5c-9e6a2a48b27f",
   "metadata": {},
   "outputs": [
    {
     "name": "stderr",
     "output_type": "stream",
     "text": [
      "[nltk_data] Downloading package stopwords to\n",
      "[nltk_data]     C:\\Users\\Dell\\AppData\\Roaming\\nltk_data...\n",
      "[nltk_data]   Package stopwords is already up-to-date!\n"
     ]
    }
   ],
   "source": [
    "import string\n",
    "import nltk\n",
    "nltk.download('stopwords')\n",
    "\n",
    "def preprocess_text(text):\n",
    "    # Removing punctuation\n",
    "    text = ''.join([char for char in text if char not in string.punctuation])\n",
    "    # Converting to lowercase\n",
    "    text = text.lower()\n",
    "    # Removing stopwords\n",
    "    text = ' '.join([word for word in text.split() if word not in stopwords.words('english')])\n",
    "    return text\n",
    "\n",
    "# Applying the preprocessing to the SMS messages\n",
    "df['Message'] = df['Message'].apply(preprocess_text)\n"
   ]
  },
  {
   "cell_type": "markdown",
   "id": "cba624de-6daf-4aa7-8f92-3357f642bfac",
   "metadata": {},
   "source": [
    "CONVERTING TEXT TO VECTORS"
   ]
  },
  {
   "cell_type": "code",
   "execution_count": 17,
   "id": "79f8a09e-bd1d-4281-b6bb-4e3e32f0638c",
   "metadata": {},
   "outputs": [
    {
     "name": "stdout",
     "output_type": "stream",
     "text": [
      "(5572, 9376)\n"
     ]
    }
   ],
   "source": [
    "from sklearn.feature_extraction.text import TfidfVectorizer\n",
    "\n",
    "# Initializing the TF-IDF Vectorizer\n",
    "tfidf_vect = TfidfVectorizer()\n",
    "\n",
    "# Fitting and transforming the data\n",
    "X_tfidf = tfidf_vect.fit_transform(df['Message'])\n",
    "\n",
    "# Displaying the shape of the feature matrix\n",
    "print(X_tfidf.shape)\n"
   ]
  },
  {
   "cell_type": "code",
   "execution_count": 18,
   "id": "5ec9f0c1-fa29-4e95-8b97-75c6b2d0d862",
   "metadata": {},
   "outputs": [],
   "source": [
    "from sklearn.model_selection import train_test_split\n",
    "\n",
    "# Preparing the labels\n",
    "y = df['Label']\n",
    "\n",
    "# Splitting the dataset\n",
    "X_train, X_test, y_train, y_test = train_test_split(X_tfidf, y, test_size=0.2, random_state=42)\n"
   ]
  },
  {
   "cell_type": "markdown",
   "id": "c7ee8b18-4a7f-467b-86b3-2f9a21473873",
   "metadata": {},
   "source": [
    "TRAINING DIFFERENT CLASSIFIERS ON THE DATASET"
   ]
  },
  {
   "cell_type": "code",
   "execution_count": 20,
   "id": "d6f332e6-8724-4989-a38e-dd6cfd957d81",
   "metadata": {},
   "outputs": [
    {
     "name": "stdout",
     "output_type": "stream",
     "text": [
      "Naive Bayes Accuracy: 0.9659192825112107\n",
      "Logistic Regression Accuracy: 0.9426008968609866\n",
      "SVM Accuracy: 0.967713004484305\n",
      "\n",
      "Classification Report for Logistic Regression:\n",
      "              precision    recall  f1-score   support\n",
      "\n",
      "         ham       0.94      1.00      0.97       965\n",
      "        spam       0.96      0.60      0.74       150\n",
      "\n",
      "    accuracy                           0.94      1115\n",
      "   macro avg       0.95      0.80      0.85      1115\n",
      "weighted avg       0.94      0.94      0.94      1115\n",
      "\n"
     ]
    }
   ],
   "source": [
    "from sklearn.naive_bayes import MultinomialNB\n",
    "from sklearn.linear_model import LogisticRegression\n",
    "from sklearn.svm import SVC\n",
    "from sklearn.metrics import accuracy_score, classification_report\n",
    "\n",
    "# Training Naive Bayes model\n",
    "nb_model = MultinomialNB()\n",
    "nb_model.fit(X_train, y_train)\n",
    "y_pred_nb = nb_model.predict(X_test)\n",
    "\n",
    "# Training Logistic Regression model\n",
    "lr_model = LogisticRegression()\n",
    "lr_model.fit(X_train, y_train)\n",
    "y_pred_lr = lr_model.predict(X_test)\n",
    "\n",
    "# Training SVM model\n",
    "svm_model = SVC()\n",
    "svm_model.fit(X_train, y_train)\n",
    "y_pred_svm = svm_model.predict(X_test)\n",
    "\n",
    "# Evaluate the models\n",
    "print(\"Naive Bayes Accuracy:\", accuracy_score(y_test, y_pred_nb))\n",
    "print(\"Logistic Regression Accuracy:\", accuracy_score(y_test, y_pred_lr))\n",
    "print(\"SVM Accuracy:\", accuracy_score(y_test, y_pred_svm))\n",
    "print(\"\\nClassification Report for Logistic Regression:\")\n",
    "print(classification_report(y_test, y_pred_lr))\n"
   ]
  },
  {
   "cell_type": "markdown",
   "id": "eb268b4d-2c75-4b29-a9fe-593680c2eed4",
   "metadata": {},
   "source": [
    "SAVING THE MODEL"
   ]
  },
  {
   "cell_type": "code",
   "execution_count": 21,
   "id": "056260e9-cd58-475a-8e4d-9d142496da84",
   "metadata": {},
   "outputs": [
    {
     "data": {
      "text/plain": [
       "'svm_spam_classifier.pkl'"
      ]
     },
     "execution_count": 21,
     "metadata": {},
     "output_type": "execute_result"
    }
   ],
   "source": [
    "#As SVM model gave the Highest Accuracy So using that classifier for our model\n",
    "import joblib\n",
    "svm_model_path = 'svm_spam_classifier.pkl'\n",
    "joblib.dump(svm_model, svm_model_path)\n",
    "svm_model_path"
   ]
  },
  {
   "cell_type": "code",
   "execution_count": 22,
   "id": "1914f4f1-9303-4e72-989b-bb10364257db",
   "metadata": {},
   "outputs": [
    {
     "data": {
      "text/plain": [
       "['model_and_vectorizer.pkl']"
      ]
     },
     "execution_count": 22,
     "metadata": {},
     "output_type": "execute_result"
    }
   ],
   "source": [
    "import joblib\n",
    "\n",
    "joblib.dump({'model': svm_model, 'vectorizer': tfidf_vect}, 'model_and_vectorizer.pkl')\n"
   ]
  },
  {
   "cell_type": "code",
   "execution_count": null,
   "id": "1e43b4cf-040d-4dd0-95be-2e79b86eadf7",
   "metadata": {},
   "outputs": [],
   "source": []
  }
 ],
 "metadata": {
  "kernelspec": {
   "display_name": "Python 3 (ipykernel)",
   "language": "python",
   "name": "python3"
  },
  "language_info": {
   "codemirror_mode": {
    "name": "ipython",
    "version": 3
   },
   "file_extension": ".py",
   "mimetype": "text/x-python",
   "name": "python",
   "nbconvert_exporter": "python",
   "pygments_lexer": "ipython3",
   "version": "3.12.2"
  }
 },
 "nbformat": 4,
 "nbformat_minor": 5
}
